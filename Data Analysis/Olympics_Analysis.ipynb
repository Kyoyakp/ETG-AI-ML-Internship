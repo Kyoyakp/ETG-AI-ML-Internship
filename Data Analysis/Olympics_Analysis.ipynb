{
  "nbformat": 4,
  "nbformat_minor": 0,
  "metadata": {
    "colab": {
      "name": "Olympics Analysis.ipynb",
      "provenance": [],
      "include_colab_link": true
    },
    "kernelspec": {
      "name": "python3",
      "display_name": "Python 3"
    },
    "language_info": {
      "name": "python"
    }
  },
  "cells": [
    {
      "cell_type": "markdown",
      "metadata": {
        "id": "view-in-github",
        "colab_type": "text"
      },
      "source": [
        "<a href=\"https://colab.research.google.com/github/Kyoyakp/ETG-AI-ML-Internship/blob/main/Data%20Analysis/Olympics_Analysis.ipynb\" target=\"_parent\"><img src=\"https://colab.research.google.com/assets/colab-badge.svg\" alt=\"Open In Colab\"/></a>"
      ]
    },
    {
      "cell_type": "markdown",
      "metadata": {
        "id": "lHqpFWVKENdu"
      },
      "source": [
        "### Getting Data for Analysis"
      ]
    },
    {
      "cell_type": "code",
      "metadata": {
        "id": "XnnHDUg6GWum"
      },
      "source": [
        "import pandas as pd\n",
        "import matplotlib.pyplot as plt"
      ],
      "execution_count": 6,
      "outputs": []
    },
    {
      "cell_type": "code",
      "metadata": {
        "id": "FLDXbzjVDpP_",
        "colab": {
          "base_uri": "https://localhost:8080/"
        },
        "outputId": "fd229eb1-83b5-4b36-c1bb-839e6bf4443e"
      },
      "source": [
        "! git clone https://github.com/Kyoyakp/ETG-AI-ML-Internship"
      ],
      "execution_count": 7,
      "outputs": [
        {
          "output_type": "stream",
          "name": "stdout",
          "text": [
            "fatal: destination path 'ETG-AI-ML-Internship' already exists and is not an empty directory.\n"
          ]
        }
      ]
    },
    {
      "cell_type": "code",
      "metadata": {
        "colab": {
          "base_uri": "https://localhost:8080/",
          "height": 203
        },
        "id": "Ov09XilPIV20",
        "outputId": "6115624b-1c83-4dd6-f0d9-4368f0afe7fe"
      },
      "source": [
        "df = pd.read_csv('/content/ETG-AI-ML-Internship/Data Analysis/Olympics_Data.csv')\n",
        "df.head()"
      ],
      "execution_count": 8,
      "outputs": [
        {
          "output_type": "execute_result",
          "data": {
            "text/html": [
              "<div>\n",
              "<style scoped>\n",
              "    .dataframe tbody tr th:only-of-type {\n",
              "        vertical-align: middle;\n",
              "    }\n",
              "\n",
              "    .dataframe tbody tr th {\n",
              "        vertical-align: top;\n",
              "    }\n",
              "\n",
              "    .dataframe thead th {\n",
              "        text-align: right;\n",
              "    }\n",
              "</style>\n",
              "<table border=\"1\" class=\"dataframe\">\n",
              "  <thead>\n",
              "    <tr style=\"text-align: right;\">\n",
              "      <th></th>\n",
              "      <th>Year</th>\n",
              "      <th>City</th>\n",
              "      <th>Sport</th>\n",
              "      <th>Discipline</th>\n",
              "      <th>Athlete</th>\n",
              "      <th>Country</th>\n",
              "      <th>Gender</th>\n",
              "      <th>Event</th>\n",
              "      <th>Medal</th>\n",
              "    </tr>\n",
              "  </thead>\n",
              "  <tbody>\n",
              "    <tr>\n",
              "      <th>0</th>\n",
              "      <td>1896</td>\n",
              "      <td>Athens</td>\n",
              "      <td>Aquatics</td>\n",
              "      <td>Swimming</td>\n",
              "      <td>HAJOS, Alfred</td>\n",
              "      <td>HUN</td>\n",
              "      <td>Men</td>\n",
              "      <td>100M Freestyle</td>\n",
              "      <td>Gold</td>\n",
              "    </tr>\n",
              "    <tr>\n",
              "      <th>1</th>\n",
              "      <td>1896</td>\n",
              "      <td>Athens</td>\n",
              "      <td>Aquatics</td>\n",
              "      <td>Swimming</td>\n",
              "      <td>HERSCHMANN, Otto</td>\n",
              "      <td>AUT</td>\n",
              "      <td>Men</td>\n",
              "      <td>100M Freestyle</td>\n",
              "      <td>Silver</td>\n",
              "    </tr>\n",
              "    <tr>\n",
              "      <th>2</th>\n",
              "      <td>1896</td>\n",
              "      <td>Athens</td>\n",
              "      <td>Aquatics</td>\n",
              "      <td>Swimming</td>\n",
              "      <td>DRIVAS, Dimitrios</td>\n",
              "      <td>GRE</td>\n",
              "      <td>Men</td>\n",
              "      <td>100M Freestyle For Sailors</td>\n",
              "      <td>Bronze</td>\n",
              "    </tr>\n",
              "    <tr>\n",
              "      <th>3</th>\n",
              "      <td>1896</td>\n",
              "      <td>Athens</td>\n",
              "      <td>Aquatics</td>\n",
              "      <td>Swimming</td>\n",
              "      <td>MALOKINIS, Ioannis</td>\n",
              "      <td>GRE</td>\n",
              "      <td>Men</td>\n",
              "      <td>100M Freestyle For Sailors</td>\n",
              "      <td>Gold</td>\n",
              "    </tr>\n",
              "    <tr>\n",
              "      <th>4</th>\n",
              "      <td>1896</td>\n",
              "      <td>Athens</td>\n",
              "      <td>Aquatics</td>\n",
              "      <td>Swimming</td>\n",
              "      <td>CHASAPIS, Spiridon</td>\n",
              "      <td>GRE</td>\n",
              "      <td>Men</td>\n",
              "      <td>100M Freestyle For Sailors</td>\n",
              "      <td>Silver</td>\n",
              "    </tr>\n",
              "  </tbody>\n",
              "</table>\n",
              "</div>"
            ],
            "text/plain": [
              "   Year    City     Sport  ... Gender                       Event   Medal\n",
              "0  1896  Athens  Aquatics  ...    Men              100M Freestyle    Gold\n",
              "1  1896  Athens  Aquatics  ...    Men              100M Freestyle  Silver\n",
              "2  1896  Athens  Aquatics  ...    Men  100M Freestyle For Sailors  Bronze\n",
              "3  1896  Athens  Aquatics  ...    Men  100M Freestyle For Sailors    Gold\n",
              "4  1896  Athens  Aquatics  ...    Men  100M Freestyle For Sailors  Silver\n",
              "\n",
              "[5 rows x 9 columns]"
            ]
          },
          "metadata": {},
          "execution_count": 8
        }
      ]
    },
    {
      "cell_type": "markdown",
      "metadata": {
        "id": "DDTojJiXHG2J"
      },
      "source": [
        "### 1. In how many cities Summer Olympics is held so far?"
      ]
    },
    {
      "cell_type": "code",
      "metadata": {
        "id": "I0HwIIk6HG2L",
        "colab": {
          "base_uri": "https://localhost:8080/"
        },
        "outputId": "f8295466-4c7e-4fb9-8b09-0ef0c79c4913"
      },
      "source": [
        "len(df['City'].unique())"
      ],
      "execution_count": 9,
      "outputs": [
        {
          "output_type": "execute_result",
          "data": {
            "text/plain": [
              "22"
            ]
          },
          "metadata": {},
          "execution_count": 9
        }
      ]
    },
    {
      "cell_type": "markdown",
      "metadata": {
        "id": "aVoTp-Q9HG2M"
      },
      "source": [
        "### 2. Which sport is having most number of Gold Medals so far? (Top 5)"
      ]
    },
    {
      "cell_type": "code",
      "metadata": {
        "id": "aurYKaDNHG2N",
        "colab": {
          "base_uri": "https://localhost:8080/",
          "height": 454
        },
        "outputId": "f44c6ea2-dad8-4be5-8499-e1c5194601ac"
      },
      "source": [
        "# Creating Data containing only Gold medal info\n",
        "gold = df[df['Medal']=='Gold']\n",
        "\n",
        "\n",
        "# Creating list of sports and no. of gold medals won in it\n",
        "data = []\n",
        "for Sport in gold['Sport'].unique():\n",
        "    data.append([Sport , len(gold[gold['Sport']  == Sport])])\n",
        "\n",
        "\n",
        "# coverting list into DATAFRAME\n",
        "data = pd.DataFrame(data,columns = ['Sport','Medals'])\n",
        "\n",
        "\n",
        "# sorting the DATA\n",
        "data = data.sort_values(by='Medals', ascending=False).head()\n",
        "\n",
        "\n",
        "# Ploting graph of the DATA\n",
        "data.plot(x = 'Sport', y = 'Medals', kind = 'bar', figsize = (8,6))"
      ],
      "execution_count": 10,
      "outputs": [
        {
          "output_type": "execute_result",
          "data": {
            "text/plain": [
              "<matplotlib.axes._subplots.AxesSubplot at 0x7f1584fb4250>"
            ]
          },
          "metadata": {},
          "execution_count": 10
        },
        {
          "output_type": "display_data",
          "data": {
            "image/png": "[encoded data removed]",
            "text/plain": [
              "<Figure size 576x432 with 1 Axes>"
            ]
          },
          "metadata": {
            "needs_background": "light"
          }
        }
      ]
    },
    {
      "cell_type": "markdown",
      "metadata": {
        "id": "xUaenXmxHG2N"
      },
      "source": [
        "### 3. Which sport is having most number of medals so far? (Top 5)"
      ]
    },
    {
      "cell_type": "code",
      "metadata": {
        "id": "eTfOmxUuHG2N",
        "colab": {
          "base_uri": "https://localhost:8080/",
          "height": 437
        },
        "outputId": "7509347f-32bd-48d3-8466-dd0ebf46dea6"
      },
      "source": [
        "data = []\n",
        "for Sport in df['Sport'].unique():\n",
        "    data.append([Sport , len(df[df['Sport']  == Sport])])\n",
        "\n",
        "\n",
        "# ALL the function performed below can also be peerformed in one line \n",
        "# without using \"data\" for storing info\n",
        "\n",
        "\n",
        "# coverting list into DATAFRAME\n",
        "data = pd.DataFrame(data,columns = ['Sport','Medals'])\n",
        "\n",
        "# sorting the DATA\n",
        "data = data.sort_values(by='Medals', ascending=False).head()\n",
        "\n",
        "# Ploting graph of the DATA\n",
        "data.plot(x = 'Sport', y = 'Medals', kind = 'bar', figsize = (8,6))\n",
        "plt.show()"
      ],
      "execution_count": null,
      "outputs": [
        {
          "output_type": "display_data",
          "data": {
            "image/png": "[encoded data removed]",
            "text/plain": [
              "<Figure size 576x432 with 1 Axes>"
            ]
          },
          "metadata": {
            "needs_background": "light"
          }
        }
      ]
    },
    {
      "cell_type": "markdown",
      "metadata": {
        "id": "DcnLN-0AHG2O"
      },
      "source": [
        "### 4. Which player has won most number of medals? (Top 5)"
      ]
    },
    {
      "cell_type": "code",
      "metadata": {
        "id": "ldBT9ZC9HG2P",
        "colab": {
          "base_uri": "https://localhost:8080/",
          "height": 512
        },
        "outputId": "919399c8-82af-4b84-feea-5ea8f9a4779f"
      },
      "source": [
        "data = []\n",
        "for Athlete in df['Athlete'].unique():\n",
        "    data.append([Athlete , len(df[df['Athlete']  == Athlete])])\n",
        "\n",
        "# coverting list into DATAFRAME\n",
        "data = pd.DataFrame(data,columns = ['Athlete','Medals'])\n",
        "\n",
        "# sorting the DATA\n",
        "data = data.sort_values(by='Medals', ascending=False).head()\n",
        "\n",
        "# Ploting graph of the DATA\n",
        "data.plot(x = 'Athlete', y = 'Medals', kind = 'bar', figsize = (8,6))"
      ],
      "execution_count": null,
      "outputs": [
        {
          "output_type": "execute_result",
          "data": {
            "text/plain": [
              "<matplotlib.axes._subplots.AxesSubplot at 0x7fa2acc7e190>"
            ]
          },
          "metadata": {},
          "execution_count": 46
        },
        {
          "output_type": "display_data",
          "data": {
            "image/png": "[encoded data removed]",
            "text/plain": [
              "<Figure size 576x432 with 1 Axes>"
            ]
          },
          "metadata": {
            "needs_background": "light"
          }
        }
      ]
    },
    {
      "cell_type": "markdown",
      "metadata": {
        "id": "XWQYemc_HG2P"
      },
      "source": [
        "### 5. Which player has won most number Gold Medals of medals? (Top 5)"
      ]
    },
    {
      "cell_type": "code",
      "metadata": {
        "id": "cAQvpzxqHG2Q",
        "colab": {
          "base_uri": "https://localhost:8080/",
          "height": 480
        },
        "outputId": "c9d9f0ad-5a98-4162-a25a-69286afda8aa"
      },
      "source": [
        "gold = df[df['Medal']=='Gold']\n",
        "data = []\n",
        "for Athlete in gold['Athlete'].unique():\n",
        "    data.append([Athlete , len(gold[gold['Athlete']  == Athlete])])\n",
        "\n",
        "# coverting list into DATAFRAME\n",
        "data = pd.DataFrame(data,columns = ['Athlete','Medals'])\n",
        "\n",
        "# sorting the DATA\n",
        "data = data.sort_values(by='Medals', ascending=False).head()\n",
        "\n",
        "# Ploting graph of the DATA\n",
        "data.plot(x = 'Athlete', y = 'Medals', kind = 'bar', figsize = (8,6))"
      ],
      "execution_count": null,
      "outputs": [
        {
          "output_type": "execute_result",
          "data": {
            "text/plain": [
              "<matplotlib.axes._subplots.AxesSubplot at 0x7fa2a8ca5ed0>"
            ]
          },
          "metadata": {},
          "execution_count": 47
        },
        {
          "output_type": "display_data",
          "data": {
            "image/png": "[encoded data removed]",
            "text/plain": [
              "<Figure size 576x432 with 1 Axes>"
            ]
          },
          "metadata": {
            "needs_background": "light"
          }
        }
      ]
    },
    {
      "cell_type": "markdown",
      "metadata": {
        "id": "j4ttgPonHG2Q"
      },
      "source": [
        "### 6. In which year India won first Gold Medal in Summer Olympics?\n",
        "#### From graph below it can be seen\n",
        "INDIA won 1st GOLD in \"1928\" and The no. of medals were \"15\""
      ]
    },
    {
      "cell_type": "code",
      "metadata": {
        "id": "11U0ZLt0HG2Q",
        "colab": {
          "base_uri": "https://localhost:8080/",
          "height": 421
        },
        "outputId": "37c9d43b-fe5f-4ad5-b312-662c65ab8614"
      },
      "source": [
        "IND = df[df['Country']=='IND']\n",
        "IND_Gold = IND[IND['Medal'] == 'Gold']\n",
        "data = []\n",
        "for Year in IND_Gold['Year'].unique():\n",
        "  data.append([Year, len(IND_Gold[IND_Gold['Year']==Year])])\n",
        "pd.DataFrame(data, columns = ['Year','Golds']).sort_values(by=\"Year\").plot(x = \"Year\", y = \"Golds\", kind = 'bar', figsize = (8,6))\n"
      ],
      "execution_count": null,
      "outputs": [
        {
          "output_type": "execute_result",
          "data": {
            "text/plain": [
              "<matplotlib.axes._subplots.AxesSubplot at 0x7fa2a4ae22d0>"
            ]
          },
          "metadata": {},
          "execution_count": 90
        },
        {
          "output_type": "display_data",
          "data": {
            "image/png": "[encoded data removed]",
            "text/plain": [
              "<Figure size 576x432 with 1 Axes>"
            ]
          },
          "metadata": {
            "needs_background": "light"
          }
        }
      ]
    },
    {
      "cell_type": "markdown",
      "metadata": {
        "id": "EXc28DZzHG2R"
      },
      "source": [
        "### 7. Which event is most popular in terms on number of players? (Top 5)"
      ]
    },
    {
      "cell_type": "markdown",
      "metadata": {
        "id": "hQhho5Pw5Il_"
      },
      "source": [
        "Method_1 (long)\n",
        "______________________\n",
        "\n"
      ]
    },
    {
      "cell_type": "code",
      "metadata": {
        "colab": {
          "base_uri": "https://localhost:8080/",
          "height": 485
        },
        "id": "VMJ0JvJXTEnc",
        "outputId": "cfcd18fe-45a8-4cfe-e5b3-286ab4d8a777"
      },
      "source": [
        "data = []\n",
        "for i in df['Event'].unique():\n",
        "  data.append([i, len(df[df['Event']==i])])\n",
        "\n",
        "data = pd.DataFrame(data,columns = [\"Event\", \"Athlete\"])\n",
        "\n",
        "data = data.sort_values(by = \"Athlete\", ascending = False).head()\n",
        "\n",
        "data.plot(x='Event', y =\"Athlete\", kind = 'bar', figsize = (8,6), color = \"Orange\")"
      ],
      "execution_count": null,
      "outputs": [
        {
          "output_type": "execute_result",
          "data": {
            "text/plain": [
              "<matplotlib.axes._subplots.AxesSubplot at 0x7f5134738550>"
            ]
          },
          "metadata": {},
          "execution_count": 48
        },
        {
          "output_type": "display_data",
          "data": {
            "image/png": "[encoded data removed]",
            "text/plain": [
              "<Figure size 576x432 with 1 Axes>"
            ]
          },
          "metadata": {
            "needs_background": "light"
          }
        }
      ]
    },
    {
      "cell_type": "markdown",
      "metadata": {
        "id": "P57paSO63kPn"
      },
      "source": [
        "Method_2 - (Using \"groupby()\" function)\n",
        "\n",
        "________________________________________"
      ]
    },
    {
      "cell_type": "code",
      "metadata": {
        "colab": {
          "base_uri": "https://localhost:8080/",
          "height": 485
        },
        "id": "LD5gfBYt2T5v",
        "outputId": "da5cf992-efc9-4b23-a26c-841a2647f7b9"
      },
      "source": [
        "df.groupby(\"Event\").count()[\"Athlete\"].sort_values(ascending = False).head().plot.bar(figsize = (8,6), color = \"purple\")\n"
      ],
      "execution_count": null,
      "outputs": [
        {
          "output_type": "execute_result",
          "data": {
            "text/plain": [
              "<matplotlib.axes._subplots.AxesSubplot at 0x7f51346bfbd0>"
            ]
          },
          "metadata": {},
          "execution_count": 49
        },
        {
          "output_type": "display_data",
          "data": {
            "image/png": "[encoded data removed]",
            "text/plain": [
              "<Figure size 576x432 with 1 Axes>"
            ]
          },
          "metadata": {
            "needs_background": "light"
          }
        }
      ]
    },
    {
      "cell_type": "markdown",
      "metadata": {
        "id": "YdXMGnCoHG2S"
      },
      "source": [
        "### 8. Which sport is having most female Gold Medalists? (Top 5)"
      ]
    },
    {
      "cell_type": "markdown",
      "metadata": {
        "id": "Ljr6QQNlB8yC"
      },
      "source": [
        "Using some matplotlib methods"
      ]
    },
    {
      "cell_type": "code",
      "metadata": {
        "colab": {
          "base_uri": "https://localhost:8080/",
          "height": 437
        },
        "id": "B4ffsCrW5zal",
        "outputId": "ae09a0eb-7c36-4da7-dcfa-11e737302608"
      },
      "source": [
        "fem = df[df['Gender']=='Women']\n",
        "plt.figure(figsize = (8,6))\n",
        "fem.groupby(\"Sport\").count()[\"Gender\"].sort_values(ascending=False).head().plot.bar()\n",
        "plt.show()"
      ],
      "execution_count": null,
      "outputs": [
        {
          "output_type": "display_data",
          "data": {
            "image/png": "[encoded data removed]",
            "text/plain": [
              "<Figure size 576x432 with 1 Axes>"
            ]
          },
          "metadata": {
            "needs_background": "light"
          }
        }
      ]
    }
  ]
}