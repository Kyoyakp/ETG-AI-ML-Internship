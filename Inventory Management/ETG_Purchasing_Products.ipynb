{
  "nbformat": 4,
  "nbformat_minor": 0,
  "metadata": {
    "colab": {
      "name": "ETG Purchasing Products.ipynb",
      "provenance": []
    },
    "kernelspec": {
      "name": "python3",
      "display_name": "Python 3"
    },
    "language_info": {
      "name": "python"
    }
  },
  "cells": [
    {
      "cell_type": "markdown",
      "metadata": {
        "id": "hluNO_0-d7xm"
      },
      "source": [
        "# Reading record"
      ]
    },
    {
      "cell_type": "code",
      "metadata": {
        "colab": {
          "base_uri": "https://localhost:8080/"
        },
        "id": "akQ69D2Kae6H",
        "outputId": "15f0dedf-15d5-42f2-a3b6-5a28b712576b"
      },
      "source": [
        "import json\n",
        "\n",
        "fd = open(\"record.json\",'r')\n",
        "Data = fd.read()\n",
        "fd.close()\n",
        "\n",
        "products = json.loads(Data)\n",
        "products"
      ],
      "execution_count": 161,
      "outputs": [
        {
          "output_type": "execute_result",
          "data": {
            "text/plain": [
              "{'1001': {'brand': 'Amul',\n",
              "  'mark': 'cow-milk',\n",
              "  'name': 'milk',\n",
              "  'price': 30,\n",
              "  'quantity': 48},\n",
              " '1002': {'brand': 'Mother Dairy',\n",
              "  'mark': 'Almond',\n",
              "  'name': 'milk',\n",
              "  'price': 33,\n",
              "  'quantity': 28},\n",
              " '1003': {'brand': 'Darigold',\n",
              "  'mark': 'soya',\n",
              "  'name': 'milk',\n",
              "  'price': 27,\n",
              "  'quantity': 35},\n",
              " '1004': {'brand': 'Dairy Milk',\n",
              "  'mark': 'Milk Choclate',\n",
              "  'name': 'choclate',\n",
              "  'price': 150,\n",
              "  'quantity': 33},\n",
              " '1005': {'brand': '5 Star',\n",
              "  'mark': 'choclate',\n",
              "  'name': 'choclate',\n",
              "  'price': 40,\n",
              "  'quantity': 76},\n",
              " '1006': {'brand': 'Munch',\n",
              "  'mark': 'waffer',\n",
              "  'name': 'choclate',\n",
              "  'price': 10,\n",
              "  'quantity': 200},\n",
              " '1007': {'brand': 'Dairy Milk',\n",
              "  'mark': 'Dark Choclate',\n",
              "  'name': 'choclate',\n",
              "  'price': 30,\n",
              "  'quantity': 100},\n",
              " '1008': {'brand': 'Britannia',\n",
              "  'mark': 'non-veg',\n",
              "  'name': 'cake',\n",
              "  'price': 300,\n",
              "  'quantity': 12},\n",
              " '1009': {'brand': 'Treat',\n",
              "  'mark': 'veg',\n",
              "  'name': 'cake',\n",
              "  'price': 500,\n",
              "  'quantity': 10},\n",
              " '1010': {'brand': 'WS baker',\n",
              "  'mark': 'non-veg',\n",
              "  'name': 'cake',\n",
              "  'price': 1200,\n",
              "  'quantity': 4},\n",
              " '1011': {'brand': 'Happy Happy',\n",
              "  'mark': 'cookies',\n",
              "  'name': 'Biscuit',\n",
              "  'price': 20,\n",
              "  'quantity': 52},\n",
              " '1012': {'brand': 'Dairy',\n",
              "  'mark': 'cream',\n",
              "  'name': 'Biscuit',\n",
              "  'price': 50,\n",
              "  'quantity': 50},\n",
              " '1013': {'brand': 'Marigold',\n",
              "  'mark': 'salty',\n",
              "  'name': 'Biscuit',\n",
              "  'price': 100,\n",
              "  'quantity': 10},\n",
              " '1014': {'brand': 'Parle',\n",
              "  'mark': 'baked',\n",
              "  'name': 'Biscuit',\n",
              "  'price': 5,\n",
              "  'quantity': 105},\n",
              " '1015': {'brand': 'New Star',\n",
              "  'mark': 'Cream',\n",
              "  'name': 'Biscuit',\n",
              "  'price': 10,\n",
              "  'quantity': 81},\n",
              " '1016': {'brand': 'Fun Flips',\n",
              "  'mark': 'puffs',\n",
              "  'name': 'Snacks',\n",
              "  'price': 10,\n",
              "  'quantity': 20},\n",
              " '1017': {'brand': 'Balaji',\n",
              "  'mark': 'mix',\n",
              "  'name': 'Snacks',\n",
              "  'price': 30,\n",
              "  'quantity': 6},\n",
              " '1018': {'brand': 'kurkure',\n",
              "  'mark': 'stick',\n",
              "  'name': 'Snacks',\n",
              "  'price': 5,\n",
              "  'quantity': 112},\n",
              " '1019': {'brand': 'Cheetos',\n",
              "  'mark': 'puffs',\n",
              "  'name': 'Snacks',\n",
              "  'price': 50,\n",
              "  'quantity': 10},\n",
              " '1020': {'brand': 'CRAX',\n",
              "  'mark': 'rings',\n",
              "  'name': 'Snacks',\n",
              "  'price': 10,\n",
              "  'quantity': 200},\n",
              " '1021': {'brand': 'Happy Happy',\n",
              "  'mark': 'mango',\n",
              "  'name': 'Pickle',\n",
              "  'price': 10,\n",
              "  'quantity': 54},\n",
              " '1022': {'brand': 'Dairy',\n",
              "  'mark': 'lemon',\n",
              "  'name': 'Pickle',\n",
              "  'price': 50,\n",
              "  'quantity': 48},\n",
              " '1023': {'brand': 'Marigold',\n",
              "  'mark': 'mix',\n",
              "  'name': 'Pickle',\n",
              "  'price': 100,\n",
              "  'quantity': 5},\n",
              " '1024': {'brand': 'Parle',\n",
              "  'mark': 'garlic',\n",
              "  'name': 'Pickle',\n",
              "  'price': 50,\n",
              "  'quantity': 12},\n",
              " '1025': {'brand': 'New Star',\n",
              "  'mark': 'mango',\n",
              "  'name': 'Pickle',\n",
              "  'price': 100,\n",
              "  'quantity': 5},\n",
              " '1026': {'brand': 'Mine',\n",
              "  'mark': 'non-veg',\n",
              "  'name': 'cake',\n",
              "  'price': 120,\n",
              "  'quantity': 15},\n",
              " '1027': {'brand': 'Eclairs',\n",
              "  'mark': 'cream',\n",
              "  'name': 'choclate',\n",
              "  'price': 2,\n",
              "  'quantity': 474},\n",
              " '1028': {'brand': 'Dabur',\n",
              "  'mark': 'lemon',\n",
              "  'name': 'pickle',\n",
              "  'price': 5,\n",
              "  'quantity': 100},\n",
              " '1029': {'brand': 'bourbon',\n",
              "  'mark': 'cream',\n",
              "  'name': 'Biscuit',\n",
              "  'price': 25,\n",
              "  'quantity': 145},\n",
              " '1030': {'brand': 'allmilk',\n",
              "  'mark': 'almond',\n",
              "  'name': 'milk',\n",
              "  'price': 50,\n",
              "  'quantity': 8}}"
            ]
          },
          "metadata": {},
          "execution_count": 161
        }
      ]
    },
    {
      "cell_type": "markdown",
      "metadata": {
        "id": "lh-u5bYreUau"
      },
      "source": [
        "# Purchase"
      ]
    },
    {
      "cell_type": "code",
      "metadata": {
        "colab": {
          "base_uri": "https://localhost:8080/"
        },
        "id": "6Ju1SO9YeaMH",
        "outputId": "c6245779-132c-43f2-f8ee-0825962ae8b2"
      },
      "source": [
        "ui_prod  = str(input(\"Enter the product_Id: \"))\n",
        "ui_quant = int(input(\"Enter the quantity: \"))\n",
        "\n",
        "if ui_prod in products.keys():\n",
        "  if products[ui_prod][\"quantity\"] >= ui_quant:\n",
        "\n",
        "    print(\"\\nProduct: \", products[ui_prod]['name'])\n",
        "    print(\"Brand: \", products[ui_prod]['brand'])\n",
        "    print(\"Price: \", products[ui_prod]['price'])\n",
        "    print(\"Billing Amount: \", products[ui_prod]['price'] * ui_quant)\n",
        "\n",
        "    products[ui_prod]['quantity'] = products[ui_prod]['quantity'] - ui_quant\n",
        "\n",
        "\n",
        "  else:\n",
        "    print(\"\\nQuantity exceeds availability\")\n",
        "    print(\"Quantity in Inventory is: {}\".format(products[ui_prod]['quantity']))\n",
        "    new_quant = int(input(\"Enter new quantity <= {} \\n\\n\".format(products[ui_prod]['quantity'])))\n",
        "    \n",
        "    if products[ui_prod][\"quantity\"] >= new_quant:\n",
        "      ui_quant = new_quant\n",
        "      print(\"\\nProduct: \", products[ui_prod]['name'])\n",
        "      print(\"Brand: \", products[ui_prod]['brand'])\n",
        "      print(\"Price: \", products[ui_prod]['price'])\n",
        "      print(\"Billing Amount: \", products[ui_prod]['price'] * ui_quant)\n",
        "\n",
        "      products[ui_prod]['quantity'] = products[ui_prod]['quantity'] - ui_quant\n",
        "    \n",
        "    else:\n",
        "      print(\"\\nQuantity exceeds {}\".format(products[ui_prod]['quantity']))\n",
        "      print(\"ORDER CANCELLED\")\n",
        "\n",
        "else:\n",
        "  print(\"INVALID PRODUCT ID\")\n",
        "  print(\"PLEASE ENTER A VALID ID\")"
      ],
      "execution_count": 158,
      "outputs": [
        {
          "output_type": "stream",
          "name": "stdout",
          "text": [
            "Enter the product_Id: 1011\n",
            "Enter the quantity: 111\n",
            "\n",
            "Quantity exceeds availability\n",
            "Quantity in Inventory is: 51\n",
            "Enter new quantity <= 51 \n",
            "\n",
            "1\n",
            "\n",
            "Product:  Biscuit\n",
            "Brand:  Happy Happy\n",
            "Price:  20\n",
            "Billing Amount:  20\n"
          ]
        }
      ]
    },
    {
      "cell_type": "markdown",
      "metadata": {
        "id": "smeHg83Di51W"
      },
      "source": [
        "# Updating Inventory"
      ]
    },
    {
      "cell_type": "code",
      "metadata": {
        "id": "pxQ5r826i_kA"
      },
      "source": [
        "record = json.dumps(products)\n",
        "\n",
        "fd = open(\"record.json\",'w')\n",
        "fd.write(record)\n",
        "\n",
        "fd.close()"
      ],
      "execution_count": 160,
      "outputs": []
    },
    {
      "cell_type": "markdown",
      "metadata": {
        "id": "YclDZ8r8jRhv"
      },
      "source": [
        "# Sales record in JSON"
      ]
    },
    {
      "cell_type": "code",
      "metadata": {
        "id": "esZsCgg6jX5C",
        "colab": {
          "base_uri": "https://localhost:8080/"
        },
        "outputId": "334c392d-8089-4881-b061-3a518fb4c7b3"
      },
      "source": [
        "if products[ui_prod][\"quantity\"] >= ui_quant:\n",
        "  num = len(sales)+1\n",
        "  Billing_Amount = products[ui_prod]['price'] * ui_quant\n",
        "  sales[num]={'prod_ID' : ui_prod, 'quantity' : ui_quant, 'amount': Billing_Amount}\n",
        "#sales={}\n",
        "sale = json.dumps(sales)\n",
        "\n",
        "sold = open(\"sales.json\",'w')\n",
        "sold.write(sale)\n",
        "sold.close()\n",
        "\n",
        "fd = open(\"sales.json\",'r')\n",
        "sold = fd.read()\n",
        "fd.close()\n",
        "\n",
        "sell = json.loads(sold)\n",
        "sell\n"
      ],
      "execution_count": 159,
      "outputs": [
        {
          "output_type": "execute_result",
          "data": {
            "text/plain": [
              "{'1': {'amount': 50, 'prod_ID': '1015', 'quantity': 5},\n",
              " '10': {'amount': 1200, 'prod_ID': '1010', 'quantity': 1},\n",
              " '11': {'amount': 726, 'prod_ID': '1002', 'quantity': 22},\n",
              " '12': {'amount': 500, 'prod_ID': '1013', 'quantity': 5},\n",
              " '13': {'amount': 60, 'prod_ID': '1021', 'quantity': 6},\n",
              " '14': {'amount': 180, 'prod_ID': '1011', 'quantity': 9},\n",
              " '15': {'amount': 600, 'prod_ID': '1007', 'quantity': 20},\n",
              " '16': {'amount': 180, 'prod_ID': '1017', 'quantity': 6},\n",
              " '17': {'amount': 100, 'prod_ID': '1030', 'quantity': 2},\n",
              " '18': {'amount': 2000, 'prod_ID': '1013', 'quantity': 20},\n",
              " '19': {'amount': 20, 'prod_ID': '1011', 'quantity': 1},\n",
              " '2': {'amount': 200, 'prod_ID': '1024', 'quantity': 4},\n",
              " '3': {'amount': 1050, 'prod_ID': '1004', 'quantity': 7},\n",
              " '4': {'amount': 100, 'prod_ID': '1022', 'quantity': 2},\n",
              " '5': {'amount': 40, 'prod_ID': '1018', 'quantity': 8},\n",
              " '6': {'amount': 52, 'prod_ID': '1027', 'quantity': 26},\n",
              " '7': {'amount': 360, 'prod_ID': '1001', 'quantity': 12},\n",
              " '8': {'amount': 300, 'prod_ID': '1025', 'quantity': 3},\n",
              " '9': {'amount': 275, 'prod_ID': '1014', 'quantity': 55}}"
            ]
          },
          "metadata": {},
          "execution_count": 159
        }
      ]
    }
  ]
}