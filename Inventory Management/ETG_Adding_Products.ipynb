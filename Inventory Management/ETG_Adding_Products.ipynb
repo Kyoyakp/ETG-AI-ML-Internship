{
  "nbformat": 4,
  "nbformat_minor": 0,
  "metadata": {
    "colab": {
      "name": "ETG: Adding Products",
      "provenance": [],
      "collapsed_sections": [],
      "include_colab_link": true
    },
    "kernelspec": {
      "name": "python3",
      "display_name": "Python 3"
    },
    "language_info": {
      "name": "python"
    }
  },
  "cells": [
    {
      "cell_type": "markdown",
      "metadata": {
        "id": "view-in-github",
        "colab_type": "text"
      },
      "source": [
        "<a href=\"https://colab.research.google.com/github/Kyoyakp/ETG-AI-ML-Internship/blob/main/Inventory%20Management/ETG_Adding_Products.ipynb\" target=\"_parent\"><img src=\"https://colab.research.google.com/assets/colab-badge.svg\" alt=\"Open In Colab\"/></a>"
      ]
    },
    {
      "cell_type": "code",
      "metadata": {
        "id": "oiWsmF3FlovE"
      },
      "source": [
        "import json"
      ],
      "execution_count": 1,
      "outputs": []
    },
    {
      "cell_type": "code",
      "metadata": {
        "id": "oIeKFmIxP3yi",
        "colab": {
          "base_uri": "https://localhost:8080/"
        },
        "outputId": "15d42dc7-8ff6-4529-b9cb-5a3fb2e383a4"
      },
      "source": [
        "! git clone https://github.com/Kyoyakp/ETG-AI-ML-Internship"
      ],
      "execution_count": 18,
      "outputs": [
        {
          "output_type": "stream",
          "name": "stdout",
          "text": [
            "fatal: destination path 'ETG-AI-ML-Internship' already exists and is not an empty directory.\n"
          ]
        }
      ]
    },
    {
      "cell_type": "markdown",
      "metadata": {
        "id": "x3NAj1QE6SFc"
      },
      "source": [
        "# Reading **JSON** file\n"
      ]
    },
    {
      "cell_type": "code",
      "metadata": {
        "colab": {
          "base_uri": "https://localhost:8080/",
          "height": 136
        },
        "id": "mZsqQ3-02WaG",
        "outputId": "d05ab44b-fb9a-4262-f66c-a749d9e924cb"
      },
      "source": [
        "fd = open(\"/content/ETG-AI-ML-Internship/Inventory Management/record before sale.json\",'r')\n",
        "Data = fd.read()\n",
        "fd.close()\n",
        "\n",
        "Data"
      ],
      "execution_count": 24,
      "outputs": [
        {
          "output_type": "execute_result",
          "data": {
            "application/vnd.google.colaboratory.intrinsic+json": {
              "type": "string"
            },
            "text/plain": [
              "'{\"1001\": {\"name\": \"milk\", \"price\": 30, \"quantity\": 60, \"brand\": \"Amul\", \"mark\": \"cow-milk\"}, \"1002\": {\"name\": \"milk\", \"price\": 33, \"quantity\": 50, \"brand\": \"Mother Dairy\", \"mark\": \"Almond\"}, \"1003\": {\"name\": \"milk\", \"price\": 27, \"quantity\": 35, \"brand\": \"Darigold\", \"mark\": \"soya\"}, \"1004\": {\"name\": \"choclate\", \"price\": 150, \"quantity\": 40, \"brand\": \"Dairy Milk\", \"mark\": \"Milk Choclate\"}, \"1005\": {\"name\": \"choclate\", \"price\": 40, \"quantity\": 76, \"brand\": \"5 Star\", \"mark\": \"choclate\"}, \"1006\": {\"name\": \"choclate\", \"price\": 10, \"quantity\": 200, \"brand\": \"Munch\", \"mark\": \"waffer\"}, \"1007\": {\"name\": \"choclate\", \"price\": 30, \"quantity\": 120, \"brand\": \"Dairy Milk\", \"mark\": \"Dark Choclate\"}, \"1008\": {\"name\": \"cake\", \"price\": 300, \"quantity\": 12, \"brand\": \"Britannia\", \"mark\": \"non-veg\"}, \"1009\": {\"name\": \"cake\", \"price\": 500, \"quantity\": 10, \"brand\": \"Treat\", \"mark\": \"veg\"}, \"1010\": {\"name\": \"cake\", \"price\": 1200, \"quantity\": 5, \"brand\": \"WS baker\", \"mark\": \"non-veg\"}, \"1011\": {\"name\": \"Biscuit\", \"price\": 20, \"quantity\": 60, \"brand\": \"Happy Happy\", \"mark\": \"cookies\"}, \"1012\": {\"name\": \"Biscuit\", \"price\": 50, \"quantity\": 50, \"brand\": \"Dairy\", \"mark\": \"cream\"}, \"1013\": {\"name\": \"Biscuit\", \"price\": 100, \"quantity\": 35, \"brand\": \"Marigold\", \"mark\": \"salty\"}, \"1014\": {\"name\": \"Biscuit\", \"price\": 5, \"quantity\": 160, \"brand\": \"Parle\", \"mark\": \"baked\"}, \"1015\": {\"name\": \"Biscuit\", \"price\": 10, \"quantity\": 86, \"brand\": \"New Star\", \"mark\": \"Cream\"}, \"1016\": {\"name\": \"Snacks\", \"price\": 10, \"quantity\": 20, \"brand\": \"Fun Flips\", \"mark\": \"puffs\"}, \"1017\": {\"name\": \"Snacks\", \"price\": 30, \"quantity\": 12, \"brand\": \"Balaji\", \"mark\": \"mix\"}, \"1018\": {\"name\": \"Snacks\", \"price\": 5, \"quantity\": 120, \"brand\": \"kurkure\", \"mark\": \"stick\"}, \"1019\": {\"name\": \"Snacks\", \"price\": 50, \"quantity\": 10, \"brand\": \"Cheetos\", \"mark\": \"puffs\"}, \"1020\": {\"name\": \"Snacks\", \"price\": 10, \"quantity\": 200, \"brand\": \"CRAX\", \"mark\": \"rings\"}, \"1021\": {\"name\": \"Pickle\", \"price\": 10, \"quantity\": 60, \"brand\": \"Happy Happy\", \"mark\": \"mango\"}, \"1022\": {\"name\": \"Pickle\", \"price\": 50, \"quantity\": 50, \"brand\": \"Dairy\", \"mark\": \"lemon\"}, \"1023\": {\"name\": \"Pickle\", \"price\": 100, \"quantity\": 5, \"brand\": \"Marigold\", \"mark\": \"mix\"}, \"1024\": {\"name\": \"Pickle\", \"price\": 50, \"quantity\": 16, \"brand\": \"Parle\", \"mark\": \"garlic\"}, \"1025\": {\"name\": \"Pickle\", \"price\": 100, \"quantity\": 8, \"brand\": \"New Star\", \"mark\": \"mango\"}, \"1026\": {\"name\": \"cake\", \"price\": 120, \"quantity\": 15, \"brand\": \"Mine\", \"mark\": \"non-veg\"}, \"1027\": {\"name\": \"choclate\", \"price\": 2, \"quantity\": 500, \"brand\": \"Eclairs\", \"mark\": \"cream\"}, \"1028\": {\"name\": \"pickle\", \"price\": 5, \"quantity\": 100, \"brand\": \"Dabur\", \"mark\": \"lemon\"}, \"1029\": {\"name\": \"Biscuit\", \"price\": 25, \"quantity\": 145, \"brand\": \"bourbon\", \"mark\": \"cream\"}, \"1030\": {\"name\": \"milk\", \"price\": 50, \"quantity\": 15, \"brand\": \"allmilk\", \"mark\": \"almond\"}}'"
            ]
          },
          "metadata": {},
          "execution_count": 24
        }
      ]
    },
    {
      "cell_type": "markdown",
      "metadata": {
        "id": "kxOW4NxL6rOn"
      },
      "source": [
        "# Creating **DICTIONARY**"
      ]
    },
    {
      "cell_type": "code",
      "metadata": {
        "colab": {
          "base_uri": "https://localhost:8080/"
        },
        "id": "mL-Byevc3k9i",
        "outputId": "7207b8c8-f120-4b7d-e20f-faa0f4cd6a07"
      },
      "source": [
        "Products = json.loads(Data)\n",
        "Products"
      ],
      "execution_count": 25,
      "outputs": [
        {
          "output_type": "execute_result",
          "data": {
            "text/plain": [
              "{'1001': {'brand': 'Amul',\n",
              "  'mark': 'cow-milk',\n",
              "  'name': 'milk',\n",
              "  'price': 30,\n",
              "  'quantity': 60},\n",
              " '1002': {'brand': 'Mother Dairy',\n",
              "  'mark': 'Almond',\n",
              "  'name': 'milk',\n",
              "  'price': 33,\n",
              "  'quantity': 50},\n",
              " '1003': {'brand': 'Darigold',\n",
              "  'mark': 'soya',\n",
              "  'name': 'milk',\n",
              "  'price': 27,\n",
              "  'quantity': 35},\n",
              " '1004': {'brand': 'Dairy Milk',\n",
              "  'mark': 'Milk Choclate',\n",
              "  'name': 'choclate',\n",
              "  'price': 150,\n",
              "  'quantity': 40},\n",
              " '1005': {'brand': '5 Star',\n",
              "  'mark': 'choclate',\n",
              "  'name': 'choclate',\n",
              "  'price': 40,\n",
              "  'quantity': 76},\n",
              " '1006': {'brand': 'Munch',\n",
              "  'mark': 'waffer',\n",
              "  'name': 'choclate',\n",
              "  'price': 10,\n",
              "  'quantity': 200},\n",
              " '1007': {'brand': 'Dairy Milk',\n",
              "  'mark': 'Dark Choclate',\n",
              "  'name': 'choclate',\n",
              "  'price': 30,\n",
              "  'quantity': 120},\n",
              " '1008': {'brand': 'Britannia',\n",
              "  'mark': 'non-veg',\n",
              "  'name': 'cake',\n",
              "  'price': 300,\n",
              "  'quantity': 12},\n",
              " '1009': {'brand': 'Treat',\n",
              "  'mark': 'veg',\n",
              "  'name': 'cake',\n",
              "  'price': 500,\n",
              "  'quantity': 10},\n",
              " '1010': {'brand': 'WS baker',\n",
              "  'mark': 'non-veg',\n",
              "  'name': 'cake',\n",
              "  'price': 1200,\n",
              "  'quantity': 5},\n",
              " '1011': {'brand': 'Happy Happy',\n",
              "  'mark': 'cookies',\n",
              "  'name': 'Biscuit',\n",
              "  'price': 20,\n",
              "  'quantity': 60},\n",
              " '1012': {'brand': 'Dairy',\n",
              "  'mark': 'cream',\n",
              "  'name': 'Biscuit',\n",
              "  'price': 50,\n",
              "  'quantity': 50},\n",
              " '1013': {'brand': 'Marigold',\n",
              "  'mark': 'salty',\n",
              "  'name': 'Biscuit',\n",
              "  'price': 100,\n",
              "  'quantity': 35},\n",
              " '1014': {'brand': 'Parle',\n",
              "  'mark': 'baked',\n",
              "  'name': 'Biscuit',\n",
              "  'price': 5,\n",
              "  'quantity': 160},\n",
              " '1015': {'brand': 'New Star',\n",
              "  'mark': 'Cream',\n",
              "  'name': 'Biscuit',\n",
              "  'price': 10,\n",
              "  'quantity': 86},\n",
              " '1016': {'brand': 'Fun Flips',\n",
              "  'mark': 'puffs',\n",
              "  'name': 'Snacks',\n",
              "  'price': 10,\n",
              "  'quantity': 20},\n",
              " '1017': {'brand': 'Balaji',\n",
              "  'mark': 'mix',\n",
              "  'name': 'Snacks',\n",
              "  'price': 30,\n",
              "  'quantity': 12},\n",
              " '1018': {'brand': 'kurkure',\n",
              "  'mark': 'stick',\n",
              "  'name': 'Snacks',\n",
              "  'price': 5,\n",
              "  'quantity': 120},\n",
              " '1019': {'brand': 'Cheetos',\n",
              "  'mark': 'puffs',\n",
              "  'name': 'Snacks',\n",
              "  'price': 50,\n",
              "  'quantity': 10},\n",
              " '1020': {'brand': 'CRAX',\n",
              "  'mark': 'rings',\n",
              "  'name': 'Snacks',\n",
              "  'price': 10,\n",
              "  'quantity': 200},\n",
              " '1021': {'brand': 'Happy Happy',\n",
              "  'mark': 'mango',\n",
              "  'name': 'Pickle',\n",
              "  'price': 10,\n",
              "  'quantity': 60},\n",
              " '1022': {'brand': 'Dairy',\n",
              "  'mark': 'lemon',\n",
              "  'name': 'Pickle',\n",
              "  'price': 50,\n",
              "  'quantity': 50},\n",
              " '1023': {'brand': 'Marigold',\n",
              "  'mark': 'mix',\n",
              "  'name': 'Pickle',\n",
              "  'price': 100,\n",
              "  'quantity': 5},\n",
              " '1024': {'brand': 'Parle',\n",
              "  'mark': 'garlic',\n",
              "  'name': 'Pickle',\n",
              "  'price': 50,\n",
              "  'quantity': 16},\n",
              " '1025': {'brand': 'New Star',\n",
              "  'mark': 'mango',\n",
              "  'name': 'Pickle',\n",
              "  'price': 100,\n",
              "  'quantity': 8},\n",
              " '1026': {'brand': 'Mine',\n",
              "  'mark': 'non-veg',\n",
              "  'name': 'cake',\n",
              "  'price': 120,\n",
              "  'quantity': 15},\n",
              " '1027': {'brand': 'Eclairs',\n",
              "  'mark': 'cream',\n",
              "  'name': 'choclate',\n",
              "  'price': 2,\n",
              "  'quantity': 500},\n",
              " '1028': {'brand': 'Dabur',\n",
              "  'mark': 'lemon',\n",
              "  'name': 'pickle',\n",
              "  'price': 5,\n",
              "  'quantity': 100},\n",
              " '1029': {'brand': 'bourbon',\n",
              "  'mark': 'cream',\n",
              "  'name': 'Biscuit',\n",
              "  'price': 25,\n",
              "  'quantity': 145},\n",
              " '1030': {'brand': 'allmilk',\n",
              "  'mark': 'almond',\n",
              "  'name': 'milk',\n",
              "  'price': 50,\n",
              "  'quantity': 15}}"
            ]
          },
          "metadata": {},
          "execution_count": 25
        }
      ]
    },
    {
      "cell_type": "markdown",
      "metadata": {
        "id": "80NTW0oBAQd9"
      },
      "source": [
        "# Add New Item into Inventory"
      ]
    },
    {
      "cell_type": "code",
      "metadata": {
        "colab": {
          "base_uri": "https://localhost:8080/"
        },
        "id": "Gtmmcy33ASw8",
        "outputId": "816d25ad-84bf-4ebf-dd45-50d41286deb9"
      },
      "source": [
        "#Number of new products to be added to the inventory\n",
        "n = int(input(\"Enter no. of new products: \"))\n",
        "for j in range(n):\n",
        "  # Taking new product\n",
        "  prod_id = str(input(\"Enter product id:\"))\n",
        "\n",
        "  # Recording new product\n",
        "  for i in Products.keys():\n",
        "    if i == prod_id:\n",
        "      qn = int(input(\"Enter quantity:\"))\n",
        "      qn += Products[i][\"quantity\"]\n",
        "      Products[prod_id][\"quantity\"] = qn\n",
        "      break\n",
        "  else:\n",
        "    name = str(input(\"Enter name:\"))\n",
        "    pr = int(input(\"Enter price:\"))\n",
        "    qn = int(input(\"Enter quantity:\"))\n",
        "    br = str(input(\"Enter brand:\"))\n",
        "    m = str(input(\"Enter mark:\"))\n",
        "    Products[prod_id] = {'name': name, 'price': pr, 'quantity': qn , \"brand\": br , \"mark\": m}\n"
      ],
      "execution_count": 22,
      "outputs": [
        {
          "name": "stdout",
          "output_type": "stream",
          "text": [
            "Enter no. of new products: 1\n",
            "Enter product id:1030\n",
            "Enter quantity:5\n"
          ]
        }
      ]
    },
    {
      "cell_type": "markdown",
      "metadata": {
        "id": "8yZ4HLKGPOiD"
      },
      "source": [
        "Updating JSON file"
      ]
    },
    {
      "cell_type": "code",
      "metadata": {
        "id": "FxE0SD8nDIEG"
      },
      "source": [
        "record = json.dumps(Products)\n",
        "\n",
        "fd = open(\"/content/ETG-AI-ML-Internship/Inventory Management/record before sale.json\",'w')\n",
        "fd.write(record)\n",
        "fd.close()"
      ],
      "execution_count": 23,
      "outputs": []
    }
  ]
}