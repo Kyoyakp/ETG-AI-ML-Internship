{
  "nbformat": 4,
  "nbformat_minor": 0,
  "metadata": {
    "colab": {
      "name": "ETG: Adding Products",
      "provenance": [],
      "collapsed_sections": [],
      "include_colab_link": true
    },
    "kernelspec": {
      "name": "python3",
      "display_name": "Python 3"
    },
    "language_info": {
      "name": "python"
    }
  },
  "cells": [
    {
      "cell_type": "markdown",
      "metadata": {
        "id": "view-in-github",
        "colab_type": "text"
      },
      "source": [
        "<a href=\"https://colab.research.google.com/github/Kyoyakp/ETG-AI-ML-Internship/blob/main/Inventory%20Management/ETG_Adding_Products.ipynb\" target=\"_parent\"><img src=\"https://colab.research.google.com/assets/colab-badge.svg\" alt=\"Open In Colab\"/></a>"
      ]
    },
    {
      "cell_type": "code",
      "metadata": {
        "id": "oiWsmF3FlovE"
      },
      "source": [
        "import json"
      ],
      "execution_count": 1,
      "outputs": []
    },
    {
      "cell_type": "code",
      "metadata": {
        "id": "oIeKFmIxP3yi",
        "colab": {
          "base_uri": "https://localhost:8080/"
        },
        "outputId": "15d42dc7-8ff6-4529-b9cb-5a3fb2e383a4"
      },
      "source": [
        "! git clone https://github.com/Kyoyakp/ETG-AI-ML-Internship"
      ],
      "execution_count": 18,
      "outputs": [
        {
          "output_type": "stream",
          "name": "stdout",
          "text": [
            "fatal: destination path 'ETG-AI-ML-Internship' already exists and is not an empty directory.\n"
          ]
        }
      ]
    },
    {
      "cell_type": "markdown",
      "metadata": {
        "id": "x3NAj1QE6SFc"
      },
      "source": [
        "# Reading **JSON** file\n"
      ]
    },
    {
      "cell_type": "code",
      "metadata": {
        "colab": {
          "base_uri": "https://localhost:8080/",
          "height": 136
        },
        "id": "mZsqQ3-02WaG",
        "outputId": "6c75e569-9882-4c19-a9ce-70416f2e1584"
      },
      "source": [
        "fd = open(\"/content/ETG-AI-ML-Internship/Inventory Management/record before sale.json\",'r')\n",
        "Data = fd.read()\n",
        "fd.close()\n",
        "\n",
        "Data"
      ],
      "execution_count": 57,
      "outputs": [
        {
          "output_type": "execute_result",
          "data": {
            "application/vnd.google.colaboratory.intrinsic+json": {
              "type": "string"
            },
            "text/plain": [
              "'{\"1001\": {\"name\": \"milk\", \"price\": 30, \"quantity\": 60, \"brand\": \"Amul\", \"mark\": \"cow-milk\"}, \"1002\": {\"name\": \"milk\", \"price\": 33, \"quantity\": 50, \"brand\": \"Mother Dairy\", \"mark\": \"Almond\"}, \"1003\": {\"name\": \"milk\", \"price\": 27, \"quantity\": 35, \"brand\": \"Darigold\", \"mark\": \"soya\"}, \"1004\": {\"name\": \"choclate\", \"price\": 150, \"quantity\": 40, \"brand\": \"Dairy Milk\", \"mark\": \"Milk Choclate\"}, \"1005\": {\"name\": \"choclate\", \"price\": 40, \"quantity\": 76, \"brand\": \"5 Star\", \"mark\": \"choclate\"}, \"1006\": {\"name\": \"choclate\", \"price\": 10, \"quantity\": 200, \"brand\": \"Munch\", \"mark\": \"waffer\"}, \"1007\": {\"name\": \"choclate\", \"price\": 30, \"quantity\": 120, \"brand\": \"Dairy Milk\", \"mark\": \"Dark Choclate\"}, \"1008\": {\"name\": \"cake\", \"price\": 300, \"quantity\": 12, \"brand\": \"Britannia\", \"mark\": \"non-veg\"}, \"1009\": {\"name\": \"cake\", \"price\": 500, \"quantity\": 10, \"brand\": \"Treat\", \"mark\": \"veg\"}, \"1010\": {\"name\": \"cake\", \"price\": 1200, \"quantity\": 5, \"brand\": \"WS baker\", \"mark\": \"non-veg\"}, \"1011\": {\"name\": \"Biscuit\", \"price\": 20, \"quantity\": 60, \"brand\": \"Happy Happy\", \"mark\": \"cookies\"}, \"1012\": {\"name\": \"Biscuit\", \"price\": 50, \"quantity\": 50, \"brand\": \"Dairy\", \"mark\": \"cream\"}, \"1013\": {\"name\": \"Biscuit\", \"price\": 100, \"quantity\": 35, \"brand\": \"Marigold\", \"mark\": \"salty\"}, \"1014\": {\"name\": \"Biscuit\", \"price\": 5, \"quantity\": 160, \"brand\": \"Parle\", \"mark\": \"baked\"}, \"1015\": {\"name\": \"Biscuit\", \"price\": 10, \"quantity\": 86, \"brand\": \"New Star\", \"mark\": \"Cream\"}, \"1016\": {\"name\": \"Snacks\", \"price\": 10, \"quantity\": 20, \"brand\": \"Fun Flips\", \"mark\": \"puffs\"}, \"1017\": {\"name\": \"Snacks\", \"price\": 30, \"quantity\": 12, \"brand\": \"Balaji\", \"mark\": \"mix\"}, \"1018\": {\"name\": \"Snacks\", \"price\": 5, \"quantity\": 120, \"brand\": \"kurkure\", \"mark\": \"stick\"}, \"1019\": {\"name\": \"Snacks\", \"price\": 50, \"quantity\": 10, \"brand\": \"Cheetos\", \"mark\": \"puffs\"}, \"1020\": {\"name\": \"Snacks\", \"price\": 10, \"quantity\": 215, \"brand\": \"CRAX\", \"mark\": \"rings\"}, \"1021\": {\"name\": \"Pickle\", \"price\": 10, \"quantity\": 60, \"brand\": \"Happy Happy\", \"mark\": \"mango\"}, \"1022\": {\"name\": \"Pickle\", \"price\": 50, \"quantity\": 50, \"brand\": \"Dairy\", \"mark\": \"lemon\"}, \"1023\": {\"name\": \"Pickle\", \"price\": 100, \"quantity\": 5, \"brand\": \"Marigold\", \"mark\": \"mix\"}, \"1024\": {\"name\": \"Pickle\", \"price\": 50, \"quantity\": 16, \"brand\": \"Parle\", \"mark\": \"garlic\"}, \"1025\": {\"name\": \"Pickle\", \"price\": 100, \"quantity\": 20, \"brand\": \"New Star\", \"mark\": \"mango\"}, \"1026\": {\"name\": \"cake\", \"price\": 120, \"quantity\": 15, \"brand\": \"Mine\", \"mark\": \"non-veg\"}, \"1027\": {\"name\": \"choclate\", \"price\": 2, \"quantity\": 500, \"brand\": \"Eclairs\", \"mark\": \"cream\"}, \"1028\": {\"name\": \"pickle\", \"price\": 5, \"quantity\": 100, \"brand\": \"Dabur\", \"mark\": \"lemon\"}, \"1029\": {\"name\": \"Biscuit\", \"price\": 25, \"quantity\": 145, \"brand\": \"bourbon\", \"mark\": \"cream\"}, \"1030\": {\"name\": \"milk\", \"price\": 50, \"quantity\": 43, \"brand\": \"allmilk\", \"mark\": \"almond\"}, \"1032\": {\"name\": \"Biscuit\", \"price\": 35, \"quantity\": 40, \"brand\": \"jim jam\", \"mark\": \"cream\"}, \"1031\": {\"name\": \"coffee\", \"price\": 50, \"quantity\": 100, \"brand\": \"nestle\", \"mark\": \"Dark\"}}'"
            ]
          },
          "metadata": {},
          "execution_count": 57
        }
      ]
    },
    {
      "cell_type": "markdown",
      "metadata": {
        "id": "kxOW4NxL6rOn"
      },
      "source": [
        "# Creating **DICTIONARY**"
      ]
    },
    {
      "cell_type": "code",
      "metadata": {
        "colab": {
          "base_uri": "https://localhost:8080/"
        },
        "id": "mL-Byevc3k9i",
        "outputId": "bcb0bbee-aeb1-4577-b1d1-84711fcc2578"
      },
      "source": [
        "Products = json.loads(Data)\n",
        "for p in Products.values():\n",
        "  print(p)"
      ],
      "execution_count": 58,
      "outputs": [
        {
          "output_type": "stream",
          "name": "stdout",
          "text": [
            "{'name': 'milk', 'price': 30, 'quantity': 60, 'brand': 'Amul', 'mark': 'cow-milk'}\n",
            "{'name': 'milk', 'price': 33, 'quantity': 50, 'brand': 'Mother Dairy', 'mark': 'Almond'}\n",
            "{'name': 'milk', 'price': 27, 'quantity': 35, 'brand': 'Darigold', 'mark': 'soya'}\n",
            "{'name': 'choclate', 'price': 150, 'quantity': 40, 'brand': 'Dairy Milk', 'mark': 'Milk Choclate'}\n",
            "{'name': 'choclate', 'price': 40, 'quantity': 76, 'brand': '5 Star', 'mark': 'choclate'}\n",
            "{'name': 'choclate', 'price': 10, 'quantity': 200, 'brand': 'Munch', 'mark': 'waffer'}\n",
            "{'name': 'choclate', 'price': 30, 'quantity': 120, 'brand': 'Dairy Milk', 'mark': 'Dark Choclate'}\n",
            "{'name': 'cake', 'price': 300, 'quantity': 12, 'brand': 'Britannia', 'mark': 'non-veg'}\n",
            "{'name': 'cake', 'price': 500, 'quantity': 10, 'brand': 'Treat', 'mark': 'veg'}\n",
            "{'name': 'cake', 'price': 1200, 'quantity': 5, 'brand': 'WS baker', 'mark': 'non-veg'}\n",
            "{'name': 'Biscuit', 'price': 20, 'quantity': 60, 'brand': 'Happy Happy', 'mark': 'cookies'}\n",
            "{'name': 'Biscuit', 'price': 50, 'quantity': 50, 'brand': 'Dairy', 'mark': 'cream'}\n",
            "{'name': 'Biscuit', 'price': 100, 'quantity': 35, 'brand': 'Marigold', 'mark': 'salty'}\n",
            "{'name': 'Biscuit', 'price': 5, 'quantity': 160, 'brand': 'Parle', 'mark': 'baked'}\n",
            "{'name': 'Biscuit', 'price': 10, 'quantity': 86, 'brand': 'New Star', 'mark': 'Cream'}\n",
            "{'name': 'Snacks', 'price': 10, 'quantity': 20, 'brand': 'Fun Flips', 'mark': 'puffs'}\n",
            "{'name': 'Snacks', 'price': 30, 'quantity': 12, 'brand': 'Balaji', 'mark': 'mix'}\n",
            "{'name': 'Snacks', 'price': 5, 'quantity': 120, 'brand': 'kurkure', 'mark': 'stick'}\n",
            "{'name': 'Snacks', 'price': 50, 'quantity': 10, 'brand': 'Cheetos', 'mark': 'puffs'}\n",
            "{'name': 'Snacks', 'price': 10, 'quantity': 215, 'brand': 'CRAX', 'mark': 'rings'}\n",
            "{'name': 'Pickle', 'price': 10, 'quantity': 60, 'brand': 'Happy Happy', 'mark': 'mango'}\n",
            "{'name': 'Pickle', 'price': 50, 'quantity': 50, 'brand': 'Dairy', 'mark': 'lemon'}\n",
            "{'name': 'Pickle', 'price': 100, 'quantity': 5, 'brand': 'Marigold', 'mark': 'mix'}\n",
            "{'name': 'Pickle', 'price': 50, 'quantity': 16, 'brand': 'Parle', 'mark': 'garlic'}\n",
            "{'name': 'Pickle', 'price': 100, 'quantity': 20, 'brand': 'New Star', 'mark': 'mango'}\n",
            "{'name': 'cake', 'price': 120, 'quantity': 15, 'brand': 'Mine', 'mark': 'non-veg'}\n",
            "{'name': 'choclate', 'price': 2, 'quantity': 500, 'brand': 'Eclairs', 'mark': 'cream'}\n",
            "{'name': 'pickle', 'price': 5, 'quantity': 100, 'brand': 'Dabur', 'mark': 'lemon'}\n",
            "{'name': 'Biscuit', 'price': 25, 'quantity': 145, 'brand': 'bourbon', 'mark': 'cream'}\n",
            "{'name': 'milk', 'price': 50, 'quantity': 43, 'brand': 'allmilk', 'mark': 'almond'}\n",
            "{'name': 'Biscuit', 'price': 35, 'quantity': 40, 'brand': 'jim jam', 'mark': 'cream'}\n",
            "{'name': 'coffee', 'price': 50, 'quantity': 100, 'brand': 'nestle', 'mark': 'Dark'}\n"
          ]
        }
      ]
    },
    {
      "cell_type": "markdown",
      "metadata": {
        "id": "80NTW0oBAQd9"
      },
      "source": [
        "# Add New Item into Inventory"
      ]
    },
    {
      "cell_type": "code",
      "metadata": {
        "colab": {
          "base_uri": "https://localhost:8080/"
        },
        "id": "Gtmmcy33ASw8",
        "outputId": "bdde8792-04e5-4397-e385-d621f744bb42"
      },
      "source": [
        "#Number of new products to be added to the inventory\n",
        "print ('******************************************')\n",
        "n = int(input(\"Enter no. of new products: \"))\n",
        "print ('******************************************\\n')\n",
        "add = []\n",
        "for j in range(n):\n",
        "  # Taking new product\n",
        "  prod_id = str(input(\"Enter product id: \"))\n",
        "\n",
        "  # Recording new product\n",
        "  for i in Products.keys():\n",
        "    if i == prod_id:\n",
        "      qn = int(input(\"Enter quantity:   \"))\n",
        "      print ('-------------------------')\n",
        "      qn += Products[i][\"quantity\"]\n",
        "      Products[prod_id][\"quantity\"] = qn\n",
        "      add.append(Products[prod_id])\n",
        "      break\n",
        "  else:\n",
        "    name = str(input(\"Enter name:\"))\n",
        "    pr = int(input(\"Enter price:\"))\n",
        "    qn = int(input(\"Enter quantity:\"))\n",
        "    br = str(input(\"Enter brand:\"))\n",
        "    m = str(input(\"Enter mark:\"))\n",
        "    print ('-------------------------')\n",
        "    Products[prod_id] = {'name': name, 'price': pr, 'quantity': qn , \"brand\": br , \"mark\": m}\n",
        "    add.append( Products[prod_id])\n",
        "\n",
        "print ('____________________________________________________________________________________________\\n')\n",
        "print ('______________________________List of items added to Inventory______________________________')\n",
        "print ('____________________________________________________________________________________________\\n')\n",
        "for i in add:\n",
        "  print (i)\n"
      ],
      "execution_count": 55,
      "outputs": [
        {
          "output_type": "stream",
          "name": "stdout",
          "text": [
            "******************************************\n",
            "Enter no. of new products: 2\n",
            "******************************************\n",
            "\n",
            "Enter product id: 1032\n",
            "Enter name:Biscuit\n",
            "Enter price:35\n",
            "Enter quantity:40\n",
            "Enter brand:jim jam\n",
            "Enter mark:cream\n",
            "Enter product id: 1031\n",
            "Enter name:coffee\n",
            "Enter price:50\n",
            "Enter quantity:100\n",
            "Enter brand:nestle\n",
            "Enter mark:Dark\n",
            "____________________________________________________________________________________________\n",
            "\n",
            "______________________________List of items added to Inventory______________________________\n",
            "____________________________________________________________________________________________\n",
            "\n",
            "{'name': 'Biscuit', 'price': 35, 'quantity': 40, 'brand': 'jim jam', 'mark': 'cream'}\n",
            "{'name': 'coffee', 'price': 50, 'quantity': 100, 'brand': 'nestle', 'mark': 'Dark'}\n"
          ]
        }
      ]
    },
    {
      "cell_type": "markdown",
      "metadata": {
        "id": "8yZ4HLKGPOiD"
      },
      "source": [
        "Updating JSON file"
      ]
    },
    {
      "cell_type": "code",
      "metadata": {
        "id": "FxE0SD8nDIEG"
      },
      "source": [
        "record = json.dumps(Products)\n",
        "\n",
        "fd = open(\"/content/ETG-AI-ML-Internship/Inventory Management/record before sale.json\",'w')\n",
        "fd.write(record)\n",
        "fd.close()"
      ],
      "execution_count": 56,
      "outputs": []
    }
  ]
}