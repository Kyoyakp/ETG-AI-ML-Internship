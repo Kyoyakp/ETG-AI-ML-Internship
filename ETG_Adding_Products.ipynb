{
  "nbformat": 4,
  "nbformat_minor": 0,
  "metadata": {
    "colab": {
      "name": "ETG: Adding Products",
      "provenance": [],
      "collapsed_sections": []
    },
    "kernelspec": {
      "name": "python3",
      "display_name": "Python 3"
    },
    "language_info": {
      "name": "python"
    }
  },
  "cells": [
    {
      "cell_type": "code",
      "metadata": {
        "id": "oiWsmF3FlovE"
      },
      "source": [
        "import json"
      ],
      "execution_count": null,
      "outputs": []
    },
    {
      "cell_type": "markdown",
      "metadata": {
        "id": "x3NAj1QE6SFc"
      },
      "source": [
        "# Reading **JSON** file\n"
      ]
    },
    {
      "cell_type": "code",
      "metadata": {
        "colab": {
          "base_uri": "https://localhost:8080/",
          "height": 320
        },
        "id": "mZsqQ3-02WaG",
        "outputId": "69f5b697-1128-466a-ffc5-1e6c743d352f"
      },
      "source": [
        "fd = open(\"record.json\",'r')\n",
        "Data = fd.read()\n",
        "fd.close()\n",
        "\n",
        "Data"
      ],
      "execution_count": null,
      "outputs": [
        {
          "output_type": "execute_result",
          "data": {
            "application/vnd.google.colaboratory.intrinsic+json": {
              "type": "string"
            },
            "text/plain": [
              "'{\"1001\": {\"name\": \"milk\", \"price\": 30, \"quantity\": 60, \"brand\": \"Amul\", \"mark\": \"cow-milk\"}, \"1002\": {\"name\": \"milk\", \"price\": 33, \"quantity\": 50, \"brand\": \"Mother Dairy\", \"mark\": \"Almond\"}, \"1003\": {\"name\": \"milk\", \"price\": 27, \"quantity\": 35, \"brand\": \"Darigold\", \"mark\": \"soya\"}, \"1004\": {\"name\": \"choclate\", \"price\": 150, \"quantity\": 40, \"brand\": \"Dairy Milk\", \"mark\": \"Milk Choclate\"}, \"1005\": {\"name\": \"choclate\", \"price\": 40, \"quantity\": 76, \"brand\": \"5 Star\", \"mark\": \"choclate\"}, \"1006\": {\"name\": \"choclate\", \"price\": 10, \"quantity\": 200, \"brand\": \"Munch\", \"mark\": \"waffer\"}, \"1007\": {\"name\": \"choclate\", \"price\": 30, \"quantity\": 120, \"brand\": \"Dairy Milk\", \"mark\": \"Dark Choclate\"}, \"1008\": {\"name\": \"cake\", \"price\": 300, \"quantity\": 12, \"brand\": \"Britannia\", \"mark\": \"non-veg\"}, \"1009\": {\"name\": \"cake\", \"price\": 500, \"quantity\": 10, \"brand\": \"Treat\", \"mark\": \"veg\"}, \"1010\": {\"name\": \"cake\", \"price\": 1200, \"quantity\": 3, \"brand\": \"WS baker\", \"mark\": \"non-veg\"}, \"1011\": {\"name\": \"Biscuit\", \"price\": 20, \"quantity\": 60, \"brand\": \"Happy Happy\", \"mark\": \"cookies\"}, \"1012\": {\"name\": \"Biscuit\", \"price\": 50, \"quantity\": 50, \"brand\": \"Dairy\", \"mark\": \"cream\"}, \"1013\": {\"name\": \"Biscuit\", \"price\": 100, \"quantity\": 35, \"brand\": \"Marigold\", \"mark\": \"salty\"}, \"1014\": {\"name\": \"Biscuit\", \"price\": 5, \"quantity\": 160, \"brand\": \"Parle\", \"mark\": \"baked\"}, \"1015\": {\"name\": \"Biscuit\", \"price\": 10, \"quantity\": 86, \"brand\": \"New Star\", \"mark\": \"Cream\"}, \"1016\": {\"name\": \"Snacks\", \"price\": 10, \"quantity\": 20, \"brand\": \"Fun Flips\", \"mark\": \"puffs\"}, \"1017\": {\"name\": \"Snacks\", \"price\": 30, \"quantity\": 12, \"brand\": \"Balaji\", \"mark\": \"mix\"}, \"1018\": {\"name\": \"Snacks\", \"price\": 5, \"quantity\": 120, \"brand\": \"kurkure\", \"mark\": \"stick\"}, \"1019\": {\"name\": \"Snacks\", \"price\": 50, \"quantity\": 10, \"brand\": \"Cheetos\", \"mark\": \"puffs\"}, \"1020\": {\"name\": \"Snacks\", \"price\": 10, \"quantity\": 200, \"brand\": \"CRAX\", \"mark\": \"rings\"}, \"1021\": {\"name\": \"Pickle\", \"price\": 10, \"quantity\": 60, \"brand\": \"Happy Happy\", \"mark\": \"mango\"}, \"1022\": {\"name\": \"Pickle\", \"price\": 50, \"quantity\": 50, \"brand\": \"Dairy\", \"mark\": \"lemon\"}, \"1023\": {\"name\": \"Pickle\", \"price\": 100, \"quantity\": 5, \"brand\": \"Marigold\", \"mark\": \"mix\"}, \"1024\": {\"name\": \"Pickle\", \"price\": 50, \"quantity\": 16, \"brand\": \"Parle\", \"mark\": \"garlic\"}, \"1025\": {\"name\": \"Pickle\", \"price\": 100, \"quantity\": 8, \"brand\": \"New Star\", \"mark\": \"mango\"}, \"1026\": {\"name\": \"cake\", \"price\": 120, \"quantity\": 15, \"brand\": \"Mine\", \"mark\": \"non-veg\"}, \"1027\": {\"name\": \"choclate\", \"price\": 2, \"quantity\": 500, \"brand\": \"Eclairs\", \"mark\": \"cream\"}, \"1010\": {\"name\": \"cake\", \"price\": 1200, \"quantity\": 5, \"brand\": \"WS baker\", \"mark\": \"non-veg\"}, \"1028\": {\"name\": \"pickle\", \"price\": 5, \"quantity\": 100, \"brand\": \"Dabur\", \"mark\": \"lemon\"}, \"1029\": {\"name\": \"Biscuit\", \"price\": 25, \"quantity\": 145, \"brand\": \"bourbon\", \"mark\": \"cream\"}, \"1030\": {\"name\": \"milk\", \"price\": 50, \"quantity\": 10, \"brand\": \"allmilk\", \"mark\": \"almond\"}}'"
            ]
          },
          "metadata": {},
          "execution_count": 51
        }
      ]
    },
    {
      "cell_type": "markdown",
      "metadata": {
        "id": "kxOW4NxL6rOn"
      },
      "source": [
        "# Creating **DICTIONARY**"
      ]
    },
    {
      "cell_type": "code",
      "metadata": {
        "colab": {
          "base_uri": "https://localhost:8080/"
        },
        "id": "mL-Byevc3k9i",
        "outputId": "4f6ae9f8-c435-42af-85c4-f407fbd5b271"
      },
      "source": [
        "Dict = json.loads(Data)\n",
        "Dict"
      ],
      "execution_count": null,
      "outputs": [
        {
          "output_type": "execute_result",
          "data": {
            "text/plain": [
              "{'1001': {'brand': 'Amul',\n",
              "  'mark': 'cow-milk',\n",
              "  'name': 'milk',\n",
              "  'price': 30,\n",
              "  'quantity': 60},\n",
              " '1002': {'brand': 'Mother Dairy',\n",
              "  'mark': 'Almond',\n",
              "  'name': 'milk',\n",
              "  'price': 33,\n",
              "  'quantity': 50},\n",
              " '1003': {'brand': 'Darigold',\n",
              "  'mark': 'soya',\n",
              "  'name': 'milk',\n",
              "  'price': 27,\n",
              "  'quantity': 35},\n",
              " '1004': {'brand': 'Dairy Milk',\n",
              "  'mark': 'Milk Choclate',\n",
              "  'name': 'choclate',\n",
              "  'price': 150,\n",
              "  'quantity': 40},\n",
              " '1005': {'brand': '5 Star',\n",
              "  'mark': 'choclate',\n",
              "  'name': 'choclate',\n",
              "  'price': 40,\n",
              "  'quantity': 76},\n",
              " '1006': {'brand': 'Munch',\n",
              "  'mark': 'waffer',\n",
              "  'name': 'choclate',\n",
              "  'price': 10,\n",
              "  'quantity': 200},\n",
              " '1007': {'brand': 'Dairy Milk',\n",
              "  'mark': 'Dark Choclate',\n",
              "  'name': 'choclate',\n",
              "  'price': 30,\n",
              "  'quantity': 120},\n",
              " '1008': {'brand': 'Britannia',\n",
              "  'mark': 'non-veg',\n",
              "  'name': 'cake',\n",
              "  'price': 300,\n",
              "  'quantity': 12},\n",
              " '1009': {'brand': 'Treat',\n",
              "  'mark': 'veg',\n",
              "  'name': 'cake',\n",
              "  'price': 500,\n",
              "  'quantity': 10},\n",
              " '1010': {'brand': 'WS baker',\n",
              "  'mark': 'non-veg',\n",
              "  'name': 'cake',\n",
              "  'price': 1200,\n",
              "  'quantity': 5},\n",
              " '1011': {'brand': 'Happy Happy',\n",
              "  'mark': 'cookies',\n",
              "  'name': 'Biscuit',\n",
              "  'price': 20,\n",
              "  'quantity': 60},\n",
              " '1012': {'brand': 'Dairy',\n",
              "  'mark': 'cream',\n",
              "  'name': 'Biscuit',\n",
              "  'price': 50,\n",
              "  'quantity': 50},\n",
              " '1013': {'brand': 'Marigold',\n",
              "  'mark': 'salty',\n",
              "  'name': 'Biscuit',\n",
              "  'price': 100,\n",
              "  'quantity': 35},\n",
              " '1014': {'brand': 'Parle',\n",
              "  'mark': 'baked',\n",
              "  'name': 'Biscuit',\n",
              "  'price': 5,\n",
              "  'quantity': 160},\n",
              " '1015': {'brand': 'New Star',\n",
              "  'mark': 'Cream',\n",
              "  'name': 'Biscuit',\n",
              "  'price': 10,\n",
              "  'quantity': 86},\n",
              " '1016': {'brand': 'Fun Flips',\n",
              "  'mark': 'puffs',\n",
              "  'name': 'Snacks',\n",
              "  'price': 10,\n",
              "  'quantity': 20},\n",
              " '1017': {'brand': 'Balaji',\n",
              "  'mark': 'mix',\n",
              "  'name': 'Snacks',\n",
              "  'price': 30,\n",
              "  'quantity': 12},\n",
              " '1018': {'brand': 'kurkure',\n",
              "  'mark': 'stick',\n",
              "  'name': 'Snacks',\n",
              "  'price': 5,\n",
              "  'quantity': 120},\n",
              " '1019': {'brand': 'Cheetos',\n",
              "  'mark': 'puffs',\n",
              "  'name': 'Snacks',\n",
              "  'price': 50,\n",
              "  'quantity': 10},\n",
              " '1020': {'brand': 'CRAX',\n",
              "  'mark': 'rings',\n",
              "  'name': 'Snacks',\n",
              "  'price': 10,\n",
              "  'quantity': 200},\n",
              " '1021': {'brand': 'Happy Happy',\n",
              "  'mark': 'mango',\n",
              "  'name': 'Pickle',\n",
              "  'price': 10,\n",
              "  'quantity': 60},\n",
              " '1022': {'brand': 'Dairy',\n",
              "  'mark': 'lemon',\n",
              "  'name': 'Pickle',\n",
              "  'price': 50,\n",
              "  'quantity': 50},\n",
              " '1023': {'brand': 'Marigold',\n",
              "  'mark': 'mix',\n",
              "  'name': 'Pickle',\n",
              "  'price': 100,\n",
              "  'quantity': 5},\n",
              " '1024': {'brand': 'Parle',\n",
              "  'mark': 'garlic',\n",
              "  'name': 'Pickle',\n",
              "  'price': 50,\n",
              "  'quantity': 16},\n",
              " '1025': {'brand': 'New Star',\n",
              "  'mark': 'mango',\n",
              "  'name': 'Pickle',\n",
              "  'price': 100,\n",
              "  'quantity': 8},\n",
              " '1026': {'brand': 'Mine',\n",
              "  'mark': 'non-veg',\n",
              "  'name': 'cake',\n",
              "  'price': 120,\n",
              "  'quantity': 15},\n",
              " '1027': {'brand': 'Eclairs',\n",
              "  'mark': 'cream',\n",
              "  'name': 'choclate',\n",
              "  'price': 2,\n",
              "  'quantity': 500},\n",
              " '1028': {'brand': 'Dabur',\n",
              "  'mark': 'lemon',\n",
              "  'name': 'pickle',\n",
              "  'price': 5,\n",
              "  'quantity': 100},\n",
              " '1029': {'brand': 'bourbon',\n",
              "  'mark': 'cream',\n",
              "  'name': 'Biscuit',\n",
              "  'price': 25,\n",
              "  'quantity': 145},\n",
              " '1030': {'brand': 'allmilk',\n",
              "  'mark': 'almond',\n",
              "  'name': 'milk',\n",
              "  'price': 50,\n",
              "  'quantity': 10}}"
            ]
          },
          "metadata": {},
          "execution_count": 53
        }
      ]
    },
    {
      "cell_type": "markdown",
      "metadata": {
        "id": "80NTW0oBAQd9"
      },
      "source": [
        "# Add New Item into Inventory"
      ]
    },
    {
      "cell_type": "code",
      "metadata": {
        "colab": {
          "base_uri": "https://localhost:8080/"
        },
        "id": "Gtmmcy33ASw8",
        "outputId": "127e7be3-1243-4592-f10f-bb06bd91a581"
      },
      "source": [
        "#Number of new products to be added to the inventory\n",
        "n = int(input(\"Enter no. of new products: \"))\n",
        "for j in range(n):\n",
        "  # Taking new product\n",
        "  prod_id = int(input(\"Enter product id:\"))\n",
        "  name = str(input(\"Enter name:\"))\n",
        "  pr = int(input(\"Enter price:\"))\n",
        "  qn = int(input(\"Enter quantity:\"))\n",
        "  br = str(input(\"Enter brand:\"))\n",
        "  m = str(input(\"Enter mark:\"))\n",
        "\n",
        "  # Recording new product\n",
        "  for i in Products.keys():\n",
        "    if i == prod_id:\n",
        "      qn += Products[i][\"quantity\"]\n",
        "      Products[prod_id] = {'name': name, 'price': pr, 'quantity': qn , \"brand\": br , \"mark\": m}\n",
        "      break\n",
        "  else:\n",
        "    Products[prod_id] = {'name': name, 'price': pr, 'quantity': qn , \"brand\": br , \"mark\": m}\n"
      ],
      "execution_count": null,
      "outputs": [
        {
          "name": "stdout",
          "output_type": "stream",
          "text": [
            "Enter no. of new products: 4\n",
            "Enter product id:1010\n",
            "Enter name:cake\n",
            "Enter price:1200\n",
            "Enter quantity:1\n",
            "Enter brand:WS baker\n",
            "Enter mark:non-veg\n",
            "Enter product id:1028\n",
            "Enter name:pickle\n",
            "Enter price:5\n",
            "Enter quantity:100\n",
            "Enter brand:Dabur\n",
            "Enter mark:lemon\n",
            "Enter product id:1029\n",
            "Enter name:Biscuit\n",
            "Enter price:25\n",
            "Enter quantity:145\n",
            "Enter brand:bourbon\n",
            "Enter mark:cream\n",
            "Enter product id:1030\n",
            "Enter name:milk\n",
            "Enter price:50\n",
            "Enter quantity:10\n",
            "Enter brand:allmilk\n",
            "Enter mark:almond\n"
          ]
        }
      ]
    },
    {
      "cell_type": "markdown",
      "metadata": {
        "id": "8yZ4HLKGPOiD"
      },
      "source": [
        "Updating JSON file"
      ]
    },
    {
      "cell_type": "code",
      "metadata": {
        "id": "FxE0SD8nDIEG"
      },
      "source": [
        "record = json.dumps(Products)\n",
        "\n",
        "fd = open(\"record.json\",'w')\n",
        "fd.write(record)\n",
        "fd.close()"
      ],
      "execution_count": null,
      "outputs": []
    }
  ]
}